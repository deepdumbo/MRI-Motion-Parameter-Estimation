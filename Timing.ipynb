{
 "cells": [
  {
   "cell_type": "code",
   "execution_count": 1,
   "metadata": {},
   "outputs": [
    {
     "name": "stderr",
     "output_type": "stream",
     "text": [
      "WARNING: Logging before flag parsing goes to stderr.\n",
      "W1114 16:21:28.082671 140447965099776 deprecation_wrapper.py:119] From /data/vision/polina/scratch/nmsingh/dev/Motion-Experiments/lib/models.py:4: The name tf.keras.layers.CuDNNGRU is deprecated. Please use tf.compat.v1.keras.layers.CuDNNGRU instead.\n",
      "\n",
      "W1114 16:21:28.083785 140447965099776 deprecation_wrapper.py:119] From /data/vision/polina/scratch/nmsingh/dev/Motion-Experiments/lib/models.py:4: The name tf.keras.layers.CuDNNLSTM is deprecated. Please use tf.compat.v1.keras.layers.CuDNNLSTM instead.\n",
      "\n",
      "Using TensorFlow backend.\n"
     ]
    }
   ],
   "source": [
    "import os\n",
    "import sys\n",
    "import math\n",
    "import random\n",
    "import timeit\n",
    "import time\n",
    "import numpy as np\n",
    "import tensorflow as tf\n",
    "from tensorflow import keras\n",
    "import matplotlib.pyplot as plt\n",
    "\n",
    "%matplotlib notebook\n",
    "sys.path.append(\"lib\") # go to parent dir\n",
    "import pickle\n",
    "\n",
    "import subprocess\n",
    "import nibabel\n",
    "import PIL.Image as Image\n",
    "\n",
    "import lib.motion as motion\n",
    "import lib.head_motion\n",
    "import lib.models as models"
   ]
  },
  {
   "cell_type": "code",
   "execution_count": 2,
   "metadata": {},
   "outputs": [
    {
     "name": "stderr",
     "output_type": "stream",
     "text": [
      "W1114 16:21:29.175992 140447965099776 deprecation.py:506] From /data/vision/polina/scratch/nmsingh/anaconda3/envs/tensorflow_env/lib/python3.6/site-packages/tensorflow/python/ops/init_ops.py:1251: calling VarianceScaling.__init__ (from tensorflow.python.ops.init_ops) with dtype is deprecated and will be removed in a future version.\n",
      "Instructions for updating:\n",
      "Call initializer instance with the dtype argument instead of passing it to the constructor\n"
     ]
    },
    {
     "data": {
      "text/plain": [
       "<tensorflow.python.training.tracking.util.CheckpointLoadStatus at 0x7fbc1ab0f240>"
      ]
     },
     "execution_count": 2,
     "metadata": {},
     "output_type": "execute_result"
    }
   ],
   "source": [
    "n = 64\n",
    "num_lines = None\n",
    "batch_size = 8\n",
    "\n",
    "# Set up model\n",
    "model = models.get_theta_k_model((n,n,2),single=True)\n",
    "model.compile(optimizer=keras.optimizers.RMSprop(lr=0.00002,rho=0.9),\n",
    "        loss='mean_squared_error',\n",
    "        metrics=[keras.metrics.mae])\n",
    "\n",
    "# Load trained model weights\n",
    "\n",
    "training_dir = 'training/ismrm/BRAIN-ALL-CONTIGUOUS-PATCHFalse-PARAMETERIZED_SINGLE_THETA-relu-FREQUENCY_INDOMAIN-SINGLE_THETA_K_OUTDOMAIN-False-5000epoch-64-*single_theta_k_256/'\n",
    "model.load_weights(training_dir+'cp-0460.ckpt')"
   ]
  },
  {
   "cell_type": "code",
   "execution_count": 3,
   "metadata": {},
   "outputs": [],
   "source": [
    "img_dir = '/data/vision/polina/scratch/nmsingh/ADNI-data/uncropped/adni-split-by-subj-slice128-axial/train/origs/'\n",
    "imgs = os.listdir(img_dir)\n",
    "i = 0\n",
    "img = np.load(img_dir+imgs[i])\n",
    "img = np.rot90(img['vol_data'])\n",
    "n = 64\n",
    "sl_data = np.array(Image.fromarray(img).resize((n,n)))\n",
    "sl_data = sl_data - sl_data.mean()\n",
    "sl_data = sl_data/np.max(sl_data)\n",
    "\n",
    "n = 64\n",
    "k_line = np.random.randint(0,n)\n",
    "k_vect = np.zeros(n)\n",
    "\n",
    "k_line = 38#np.random.randint(0,n)\n",
    "k_vect[k_line] = 1\n",
    "\n",
    "num_pix = np.zeros((n,2))\n",
    "num_pix[k_line:,0] = np.random.random()*20-10\n",
    "num_pix[k_line:,1] = np.random.random()*20-10\n",
    "angle = np.zeros(n)\n",
    "angle[k_line:] = np.random.random()*90-45\n",
    "\n",
    "corrupted_img,corrupted_k = motion.add_rotation_and_translation(sl_data,angle,num_pix,return_k=True)\n",
    "corrupted_k = np.expand_dims(corrupted_k,-1)\n",
    "corrupted_k_re = np.real(corrupted_k)\n",
    "corrupted_k_im = np.imag(corrupted_k)\n",
    "corrupted_k = np.concatenate([corrupted_k_re,corrupted_k_im], axis=2)\n",
    "\n",
    "true_outputs = np.expand_dims(np.array([num_pix[-1,0],num_pix[-1,1],angle[-1],np.array(k_line)]),axis=0)\n",
    "network_input = corrupted_k\n",
    "\n",
    "n = 64\n",
    "num_lines = None\n",
    "batch_size = 8\n",
    "\n",
    "# Set up model\n",
    "model = models.get_theta_k_model((n,n,2),single=True)\n",
    "model.compile(optimizer=keras.optimizers.RMSprop(lr=0.00002,rho=0.9),\n",
    "        loss='mean_squared_error',\n",
    "        metrics=[keras.metrics.mae])\n",
    "\n",
    "# Load trained model weights\n",
    "\n",
    "training_dir = 'training/ismrm/BRAIN-ALL-CONTIGUOUS-PATCHFalse-PARAMETERIZED_SINGLE_THETA-relu-FREQUENCY_INDOMAIN-SINGLE_THETA_K_OUTDOMAIN-False-5000epoch-64-*single_theta_k_256/'\n",
    "model.load_weights(training_dir+'cp-0460.ckpt')\n",
    "\n",
    "model.predict(np.expand_dims(network_input,0))\n",
    "batched_input = np.expand_dims(network_input,0)"
   ]
  },
  {
   "cell_type": "code",
   "execution_count": 4,
   "metadata": {},
   "outputs": [
    {
     "name": "stdout",
     "output_type": "stream",
     "text": [
      "0.02177851438522339\n"
     ]
    }
   ],
   "source": [
    "cumtime = 0\n",
    "\n",
    "a = time.time()\n",
    "for i in range(100):\n",
    "    a = time.time()\n",
    "    model.predict(batched_input)\n",
    "    cumtime+=time.time()-a\n",
    "\n",
    "print(cumtime/100)"
   ]
  },
  {
   "cell_type": "code",
   "execution_count": null,
   "metadata": {},
   "outputs": [],
   "source": []
  }
 ],
 "metadata": {
  "kernelspec": {
   "display_name": "Python (tensorflow_env)",
   "language": "python",
   "name": "tensorflow_env"
  },
  "language_info": {
   "codemirror_mode": {
    "name": "ipython",
    "version": 3
   },
   "file_extension": ".py",
   "mimetype": "text/x-python",
   "name": "python",
   "nbconvert_exporter": "python",
   "pygments_lexer": "ipython3",
   "version": "3.6.8"
  }
 },
 "nbformat": 4,
 "nbformat_minor": 2
}
